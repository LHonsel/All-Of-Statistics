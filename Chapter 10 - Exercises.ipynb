{
 "cells": [
  {
   "cell_type": "code",
   "execution_count": 60,
   "id": "c8f89042",
   "metadata": {},
   "outputs": [],
   "source": [
    "from scipy.stats import binom, norm\n",
    "import numpy as np"
   ]
  },
  {
   "cell_type": "markdown",
   "id": "cc487b6f",
   "metadata": {},
   "source": [
    "###### Exercise 6"
   ]
  },
  {
   "cell_type": "markdown",
   "id": "75edf69d",
   "metadata": {},
   "source": [
    "There is a theory that people can postpone their death until after an important event. To test the theory, Phillips and King (1988) collected data on deaths around the Jewish holiday Passover. Of 1919 deaths, 922 died the week before the holiday and 997 died the week after. Think of this as a binomial and test the null hypothesis that θ = 1/2. Report and interpret the p-value. Also construct a confidence interval for θ."
   ]
  },
  {
   "cell_type": "code",
   "execution_count": 54,
   "id": "bd4fca15",
   "metadata": {},
   "outputs": [
    {
     "data": {
      "text/plain": [
       "0.09114525458796914"
      ]
     },
     "execution_count": 54,
     "metadata": {},
     "output_type": "execute_result"
    }
   ],
   "source": [
    "theta_0 = .5\n",
    "\n",
    "proba_observation = binom.pmf(922,1919,0.5)\n",
    "p_value = 0\n",
    "\n",
    "for i in range(1920):\n",
    "    res = binom.pmf(i,1919,0.5)\n",
    "    if res <= proba_observation:\n",
    "        p_value+=res\n",
    "p_value\n",
    "\n",
    "#reasoning based on https://en.wikipedia.org/wiki/Binomial_test"
   ]
  },
  {
   "cell_type": "markdown",
   "id": "d4422733",
   "metadata": {},
   "source": [
    "p-value above the significance threshold, we fail to reject the Null Hypothesis.\n",
    "\n",
    "Let's now get the confidence interval:"
   ]
  },
  {
   "cell_type": "code",
   "execution_count": 63,
   "id": "83b18652",
   "metadata": {},
   "outputs": [
    {
     "data": {
      "text/plain": [
       "-1.7120789041539506"
      ]
     },
     "execution_count": 63,
     "metadata": {},
     "output_type": "execute_result"
    }
   ],
   "source": [
    "p_hat = 922/1919\n",
    "p_0 = .5\n",
    "se_hat = np.sqrt(p_0*(1-p_0)/n)\n",
    "z = (p_hat-p_0)/se_hat\n",
    "z"
   ]
  },
  {
   "cell_type": "code",
   "execution_count": 64,
   "id": "c4747fe1",
   "metadata": {},
   "outputs": [
    {
     "data": {
      "text/plain": [
       "[0.4580878189007898, 0.5028293254452237]"
      ]
     },
     "execution_count": 64,
     "metadata": {},
     "output_type": "execute_result"
    }
   ],
   "source": [
    "CI = [p_hat-norm.ppf(0.975)*se_hat, p_hat+norm.ppf(0.975)*se_hat]\n",
    "CI"
   ]
  },
  {
   "cell_type": "markdown",
   "id": "9473ecce",
   "metadata": {},
   "source": [
    "###### Exercise 7"
   ]
  },
  {
   "cell_type": "code",
   "execution_count": 101,
   "id": "ba7437da",
   "metadata": {},
   "outputs": [
    {
     "data": {
      "text/plain": [
       "0.00021260028225810121"
      ]
     },
     "execution_count": 101,
     "metadata": {},
     "output_type": "execute_result"
    }
   ],
   "source": [
    "twain = np.array([.225, .262, .217, .240, .230, .229, .235, .217])\n",
    "snodgrass = np.array([.209, .205, .196, .210, .202, .207, .224, .223, .220, .201])\n",
    "\n",
    "n_twain = len(twain)\n",
    "n_snodgrass = len(snodgrass)\n",
    "\n",
    "theta_hat = np.mean(twain) - np.mean(snodgrass)\n",
    "var_twain = twain.var(ddof=1)\n",
    "var_snodgrass = snodgrass.var(ddof=1)\n",
    "\n",
    "z = theta_hat/np.sqrt(var_twain/n_twain+var_snodgrass/n_snodgrass)\n",
    "\n",
    "p_value = 2*norm.cdf(-abs(z))\n",
    "p_value"
   ]
  },
  {
   "cell_type": "markdown",
   "id": "8c2247b2",
   "metadata": {},
   "source": [
    "We reject the null hypothesis based on this p-value"
   ]
  },
  {
   "cell_type": "code",
   "execution_count": 119,
   "id": "76515da4",
   "metadata": {},
   "outputs": [
    {
     "data": {
      "text/plain": [
       "0.00075"
      ]
     },
     "execution_count": 119,
     "metadata": {},
     "output_type": "execute_result"
    }
   ],
   "source": [
    "t_observed = abs(np.mean(twain) - np.mean(snodgrass))\n",
    "concat_series = np.concatenate([twain,snodgrass])\n",
    "\n",
    "B = 100000\n",
    "t_calc = []\n",
    "\n",
    "for i in range(B):\n",
    "    np.random.shuffle(concat_series)\n",
    "    group1 = concat_series[:n_twain]\n",
    "    group2 = concat_series[n_twain:]\n",
    "    t_calc.append(abs(np.mean(group1)-np.mean(group2)))\n",
    "    \n",
    "    \n",
    "p_value = (t_calc > t_observed).sum()/B\n",
    "\n",
    "p_value"
   ]
  },
  {
   "cell_type": "markdown",
   "id": "fb4d5cbd",
   "metadata": {},
   "source": [
    "Very low p-value again"
   ]
  }
 ],
 "metadata": {
  "kernelspec": {
   "display_name": "Python 3 (ipykernel)",
   "language": "python",
   "name": "python3"
  },
  "language_info": {
   "codemirror_mode": {
    "name": "ipython",
    "version": 3
   },
   "file_extension": ".py",
   "mimetype": "text/x-python",
   "name": "python",
   "nbconvert_exporter": "python",
   "pygments_lexer": "ipython3",
   "version": "3.9.9"
  }
 },
 "nbformat": 4,
 "nbformat_minor": 5
}
