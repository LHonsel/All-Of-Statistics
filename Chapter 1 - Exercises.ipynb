{
 "cells": [
  {
   "cell_type": "code",
   "execution_count": 1,
   "id": "6dcd563a",
   "metadata": {},
   "outputs": [],
   "source": [
    "import numpy as np"
   ]
  },
  {
   "cell_type": "markdown",
   "id": "6ae19c68",
   "metadata": {},
   "source": [
    "###### Exercise 19"
   ]
  },
  {
   "cell_type": "markdown",
   "id": "a445336a",
   "metadata": {},
   "source": [
    "$P(W|V) = \\frac{P(V|W)*P(W)}{P(V)}$<br>\n",
    "$P(V|W) = 0.82$<br>\n",
    "$P(W) = 0.5$<br>\n",
    "$P(V) = P(V|W)*P(W)+P(V|L)*P(L)+P(V|M)*P(M)$"
   ]
  },
  {
   "cell_type": "code",
   "execution_count": 5,
   "id": "4a7dff58",
   "metadata": {},
   "outputs": [
    {
     "data": {
      "text/plain": [
       "0.5815602836879432"
      ]
     },
     "execution_count": 5,
     "metadata": {},
     "output_type": "execute_result"
    }
   ],
   "source": [
    "p_v = .82*.5+.5*.2+.65*.3\n",
    "p_w = 0.5\n",
    "p_v_w = 0.82\n",
    "p_w_v = p_v_w*p_w/p_v\n",
    "p_w_v"
   ]
  }
 ],
 "metadata": {
  "kernelspec": {
   "display_name": "Python 3 (ipykernel)",
   "language": "python",
   "name": "python3"
  },
  "language_info": {
   "codemirror_mode": {
    "name": "ipython",
    "version": 3
   },
   "file_extension": ".py",
   "mimetype": "text/x-python",
   "name": "python",
   "nbconvert_exporter": "python",
   "pygments_lexer": "ipython3",
   "version": "3.9.9"
  }
 },
 "nbformat": 4,
 "nbformat_minor": 5
}
